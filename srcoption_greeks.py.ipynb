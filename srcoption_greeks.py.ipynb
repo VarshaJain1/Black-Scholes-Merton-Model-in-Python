{
  "nbformat": 4,
  "nbformat_minor": 0,
  "metadata": {
    "colab": {
      "provenance": []
    },
    "kernelspec": {
      "name": "python3",
      "display_name": "Python 3"
    },
    "language_info": {
      "name": "python"
    }
  },
  "cells": [
    {
      "cell_type": "code",
      "source": [
        "# src/option_greeks.py\n",
        "import numpy as np\n",
        "from scipy.stats import norm\n",
        "\n",
        "def d1(S, K, T, r, sigma, q=0.0):\n",
        "    \"\"\"Helper function: d1 term in Black-Scholes.\"\"\"\n",
        "    return (np.log(S / K) + (r - q + 0.5 * sigma**2) * T) / (sigma * np.sqrt(T))\n",
        "\n",
        "def d2(S, K, T, r, sigma, q=0.0):\n",
        "    \"\"\"Helper function: d2 term in Black-Scholes.\"\"\"\n",
        "    return d1(S, K, T, r, sigma, q) - sigma * np.sqrt(T)\n",
        "\n",
        "# -----------------------\n",
        "# Greeks Implementation\n",
        "# -----------------------\n",
        "\n",
        "def delta(S, K, T, r, sigma, option_type=\"call\", q=0.0):\n",
        "    \"\"\"Delta: sensitivity to underlying price.\"\"\"\n",
        "    d1_val = d1(S, K, T, r, sigma, q)\n",
        "    if option_type.lower() == \"call\":\n",
        "        return np.exp(-q * T) * norm.cdf(d1_val)\n",
        "    else:  # put\n",
        "        return -np.exp(-q * T) * norm.cdf(-d1_val)\n",
        "\n",
        "def gamma(S, K, T, r, sigma, q=0.0):\n",
        "    \"\"\"Gamma: sensitivity of Delta to underlying price.\"\"\"\n",
        "    d1_val = d1(S, K, T, r, sigma, q)\n",
        "    return np.exp(-q * T) * norm.pdf(d1_val) / (S * sigma * np.sqrt(T))\n",
        "\n",
        "def vega(S, K, T, r, sigma, q=0.0):\n",
        "    \"\"\"Vega: sensitivity to volatility (per 1% change).\"\"\"\n",
        "    d1_val = d1(S, K, T, r, sigma, q)\n",
        "    return S * np.exp(-q * T) * norm.pdf(d1_val) * np.sqrt(T) / 100.0\n",
        "\n",
        "def theta(S, K, T, r, sigma, option_type=\"call\", q=0.0):\n",
        "    \"\"\"Theta: sensitivity to time (per day).\"\"\"\n",
        "    d1_val = d1(S, K, T, r, sigma, q)\n",
        "    d2_val = d2(S, K, T, r, sigma, q)\n",
        "    first_term = -(S * np.exp(-q * T) * norm.pdf(d1_val) * sigma) / (2 * np.sqrt(T))\n",
        "\n",
        "    if option_type.lower() == \"call\":\n",
        "        second_term = q * S * np.exp(-q * T) * norm.cdf(d1_val)\n",
        "        third_term = -r * K * np.exp(-r * T) * norm.cdf(d2_val)\n",
        "        theta_val = first_term + second_term + third_term\n",
        "    else:  # put\n",
        "        second_term = -q * S * np.exp(-q * T) * norm.cdf(-d1_val)\n",
        "        third_term = r * K * np.exp(-r * T) * norm.cdf(-d2_val)\n",
        "        theta_val = first_term + second_term + third_term\n",
        "\n",
        "    return theta_val / 365.0  # per day\n",
        "\n",
        "def rho(S, K, T, r, sigma, option_type=\"call\", q=0.0):\n",
        "    \"\"\"Rho: sensitivity to interest rate (per 1% change).\"\"\"\n",
        "    d2_val = d2(S, K, T, r, sigma, q)\n",
        "    if option_type.lower() == \"call\":\n",
        "        return K * T * np.exp(-r * T) * norm.cdf(d2_val) / 100.0\n",
        "    else:  # put\n",
        "        return -K * T * np.exp(-r * T) * norm.cdf(-d2_val) / 100.0\n",
        "\n",
        "# -----------------------\n",
        "# Example Run\n",
        "# -----------------------\n",
        "if __name__ == \"__main__\":\n",
        "    # Example parameters\n",
        "    S = 100      # Spot price\n",
        "    K = 100      # Strike price\n",
        "    T = 1        # Time to maturity (1 year)\n",
        "    r = 0.05     # Risk-free rate\n",
        "    sigma = 0.2  # Volatility\n",
        "    q = 0.0      # Dividend yield\n",
        "\n",
        "    for opt in [\"call\", \"put\"]:\n",
        "        print(f\"\\n{opt.upper()} option Greeks:\")\n",
        "        print(\"Delta:\", delta(S, K, T, r, sigma, opt, q))\n",
        "        print(\"Gamma:\", gamma(S, K, T, r, sigma, q))\n",
        "        print(\"Vega :\", vega(S, K, T, r, sigma, q))\n",
        "        print(\"Theta:\", theta(S, K, T, r, sigma, opt, q))\n",
        "        print(\"Rho  :\", rho(S, K, T, r, sigma, opt, q))\n"
      ],
      "metadata": {
        "colab": {
          "base_uri": "https://localhost:8080/"
        },
        "id": "IGewjGwitMh6",
        "outputId": "f6591310-b524-4b23-9bd7-aa943a784d80"
      },
      "execution_count": 21,
      "outputs": [
        {
          "output_type": "stream",
          "name": "stdout",
          "text": [
            "\n",
            "CALL option Greeks:\n",
            "Delta: 0.6368306511756191\n",
            "Gamma: 0.018762017345846895\n",
            "Vega : 0.3752403469169379\n",
            "Theta: -0.01757267820941972\n",
            "Rho  : 0.5323248154537634\n",
            "\n",
            "PUT option Greeks:\n",
            "Delta: -0.3631693488243809\n",
            "Gamma: 0.018762017345846895\n",
            "Vega : 0.3752403469169379\n",
            "Theta: -0.004542138147766099\n",
            "Rho  : -0.4189046090469506\n"
          ]
        }
      ]
    }
  ]
}