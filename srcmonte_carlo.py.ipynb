{
  "nbformat": 4,
  "nbformat_minor": 0,
  "metadata": {
    "colab": {
      "provenance": []
    },
    "kernelspec": {
      "name": "python3",
      "display_name": "Python 3"
    },
    "language_info": {
      "name": "python"
    }
  },
  "cells": [
    {
      "cell_type": "code",
      "source": [
        "# src/monte_carlo.py\n",
        "import numpy as np\n",
        "\n",
        "def monte_carlo_pricer(\n",
        "    S0, K, T, r, sigma, option_type=\"call\",\n",
        "    n_sim=1000000, antithetic=True, seed=None\n",
        "):\n",
        "    \"\"\"\n",
        "    Monte Carlo pricer for European options under Black-Scholes.\n",
        "\n",
        "    Parameters\n",
        "    ----------\n",
        "    S0 : float\n",
        "        Initial stock price\n",
        "    K : float\n",
        "        Strike price\n",
        "    T : float\n",
        "        Time to maturity (in years)\n",
        "    r : float\n",
        "        Risk-free interest rate\n",
        "    sigma : float\n",
        "        Volatility\n",
        "    option_type : str\n",
        "        \"call\" or \"put\"\n",
        "    n_sim : int\n",
        "        Number of Monte Carlo simulations\n",
        "    antithetic : bool\n",
        "        If True, use antithetic variates\n",
        "    seed : int or None\n",
        "        Random seed for reproducibility\n",
        "\n",
        "    Returns\n",
        "    -------\n",
        "    price : float\n",
        "        Estimated option price\n",
        "    se : float\n",
        "        Standard error of the estimate\n",
        "    \"\"\"\n",
        "    if seed is not None:\n",
        "        np.random.seed(seed)\n",
        "\n",
        "    # number of paths\n",
        "    n_paths = n_sim // 2 if antithetic else n_sim\n",
        "\n",
        "    # draw standard normals\n",
        "    Z = np.random.randn(n_paths)\n",
        "\n",
        "    # terminal stock price: S_T\n",
        "    drift = (r - 0.5 * sigma**2) * T\n",
        "    diffusion = sigma * np.sqrt(T)\n",
        "\n",
        "    ST1 = S0 * np.exp(drift + diffusion * Z)\n",
        "\n",
        "    if antithetic:\n",
        "        ST2 = S0 * np.exp(drift - diffusion * Z)\n",
        "        ST = np.concatenate([ST1, ST2])\n",
        "    else:\n",
        "        ST = ST1\n",
        "\n",
        "    # payoff\n",
        "    if option_type.lower() == \"call\":\n",
        "        payoff = np.maximum(ST - K, 0.0)\n",
        "    else:\n",
        "        payoff = np.maximum(K - ST, 0.0)\n",
        "\n",
        "    # discounted payoff\n",
        "    discounted_payoff = np.exp(-r * T) * payoff\n",
        "\n",
        "    # mean and SE\n",
        "    price = np.mean(discounted_payoff)\n",
        "    se = np.std(discounted_payoff, ddof=1) / np.sqrt(len(discounted_payoff))\n",
        "\n",
        "    return price, se\n",
        "\n",
        "\n",
        "# -----------------------\n",
        "# Example Run\n",
        "# -----------------------\n",
        "if __name__ == \"__main__\":\n",
        "    S0 = 100     # Spot\n",
        "    K = 100      # Strike\n",
        "    T = 1        # 1 year\n",
        "    r = 0.05     # Risk-free rate\n",
        "    sigma = 0.2  # Volatility\n",
        "\n",
        "    for opt in [\"call\", \"put\"]:\n",
        "        price, se = monte_carlo_pricer(S0, K, T, r, sigma, opt, n_sim=1000000, antithetic=True, seed=45)\n",
        "        print(f\"{opt.upper()} option price (MC): {price:.4f} ± {1.96*se:.4f} (95% CI)\")\n"
      ],
      "metadata": {
        "colab": {
          "base_uri": "https://localhost:8080/"
        },
        "id": "fDquT1d7uQfb",
        "outputId": "6e5300d7-c748-4159-a3fe-529778b11572"
      },
      "execution_count": 23,
      "outputs": [
        {
          "output_type": "stream",
          "name": "stdout",
          "text": [
            "CALL option price (MC): 10.4318 ± 0.0288 (95% CI)\n",
            "PUT option price (MC): 5.5610 ± 0.0169 (95% CI)\n"
          ]
        }
      ]
    }
  ]
}